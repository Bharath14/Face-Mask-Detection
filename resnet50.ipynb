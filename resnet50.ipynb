{
  "nbformat": 4,
  "nbformat_minor": 0,
  "metadata": {
    "kernelspec": {
      "name": "python3",
      "display_name": "Python 3",
      "language": "python"
    },
    "language_info": {
      "name": "python",
      "version": "3.7.9",
      "mimetype": "text/x-python",
      "codemirror_mode": {
        "name": "ipython",
        "version": 3
      },
      "pygments_lexer": "ipython3",
      "nbconvert_exporter": "python",
      "file_extension": ".py"
    },
    "colab": {
      "name": "resnet.ipynb",
      "provenance": []
    }
  },
  "cells": [
    {
      "cell_type": "code",
      "metadata": {
        "_uuid": "8f2839f25d086af736a60e9eeb907d3b93b6e0e5",
        "_cell_guid": "b1076dfc-b9ad-4769-8c92-a6c4dae69d19",
        "trusted": true,
        "collapsed": true,
        "id": "P1_mk0zr9z69"
      },
      "source": [
        "# This Python 3 environment comes with many helpful analytics libraries installed\n",
        "# It is defined by the kaggle/python Docker image: https://github.com/kaggle/docker-python\n",
        "# For example, here's several helpful packages to load\n",
        "\n",
        "import numpy as np # linear algebra\n",
        "import pandas as pd # data processing, CSV file I/O (e.g. pd.read_csv)\n",
        "\n",
        "# Input data files are available in the read-only \"../input/\" directory\n",
        "# For example, running this (by clicking run or pressing Shift+Enter) will list all files under the input directory\n",
        "\n",
        "import os\n",
        "for dirname, _, filenames in os.walk('/kaggle/input'):\n",
        "    for filename in filenames:\n",
        "        print(os.path.join(dirname, filename))\n",
        "\n",
        "# You can write up to 20GB to the current directory (/kaggle/working/) that gets preserved as output when you create a version using \"Save & Run All\" \n",
        "# You can also write temporary files to /kaggle/temp/, but they won't be saved outside of the current session"
      ],
      "execution_count": null,
      "outputs": []
    },
    {
      "cell_type": "code",
      "metadata": {
        "trusted": true,
        "id": "b5vVifKu9z7C"
      },
      "source": [
        "import os\n",
        "import cv2\n",
        "import keras\n",
        "import numpy as np\n",
        "\n",
        "from keras.utils import np_utils\n",
        "from keras.models import Sequential\n",
        "from keras.layers import Dense,Activation,Flatten,Dropout\n",
        "from keras.layers import Conv2D,MaxPooling2D\n",
        "from keras.callbacks import ModelCheckpoint\n",
        "from keras.callbacks import ReduceLROnPlateau"
      ],
      "execution_count": null,
      "outputs": []
    },
    {
      "cell_type": "code",
      "metadata": {
        "trusted": true,
        "id": "H_0KkMMb9z7D"
      },
      "source": [
        "import numpy as np\n",
        "import pandas as pd\n",
        "import os \n",
        "import tensorflow as tf\n",
        "import tensorflow.keras as keras\n",
        "from keras.models import Model\n",
        "from keras.layers import Conv2D, MaxPooling2D, GlobalMaxPooling2D, Flatten, Dense, Dropout, Input, BatchNormalization\n",
        "from keras.applications import ResNet50\n",
        "from keras.preprocessing.image import ImageDataGenerator, load_img\n",
        "from keras.utils import plot_model\n",
        "import matplotlib.pyplot as plt\n",
        "import matplotlib.image as mpimg\n",
        "from sklearn.model_selection import train_test_split\n",
        "from sklearn.metrics import classification_report, confusion_matrix, accuracy_score\n",
        "from keras.regularizers import l2\n",
        "from keras.optimizers import Adam, RMSprop\n",
        "from keras.callbacks import ReduceLROnPlateau\n",
        "import cv2\n",
        "import pathlib\n",
        "import random"
      ],
      "execution_count": null,
      "outputs": []
    },
    {
      "cell_type": "code",
      "metadata": {
        "trusted": true,
        "id": "I1G46ELx9z7F"
      },
      "source": [
        "#train\n",
        "train = []\n",
        "train_target = []\n",
        "\n",
        "#test\n",
        "test = []\n",
        "test_target = []\n",
        "\n",
        "#validation\n",
        "valid = []\n",
        "valid_target = []"
      ],
      "execution_count": null,
      "outputs": []
    },
    {
      "cell_type": "code",
      "metadata": {
        "trusted": true,
        "id": "Q2FtxURs9z7G"
      },
      "source": [
        "count = 0\n",
        "datapath = \"../input/face-mask-12k-images-dataset/Face Mask Dataset\"\n",
        "for i in os.listdir(datapath):\n",
        "    #path = os.path.join(\"../input/face-mask-12k-images-dataset/Face Mask Dataset\",i)\n",
        "    \n",
        "    for img_nm in os.listdir(os.path.join(datapath,i,\"WithMask\")):\n",
        "        imgpath = os.path.join(datapath,i,\"WithMask\",img_nm)\n",
        "        img = cv2.imread(imgpath)\n",
        "        \n",
        "        #gray = cv2.cvtColor(img,cv2.COLOR_BGR2GRAY)           \n",
        "        gray = cv2.resize(img,(128,128))\n",
        "        \n",
        "        if count == 0:\n",
        "            valid.append(gray)\n",
        "            valid_target.append(0)\n",
        "        \n",
        "        if count == 1:\n",
        "            test.append(gray)\n",
        "            test_target.append(0)\n",
        "        \n",
        "        if count == 2:\n",
        "            train.append(gray)\n",
        "            train_target.append(0)\n",
        "        \n",
        "    for img_nm in os.listdir(os.path.join(datapath,i,\"WithoutMask\")):\n",
        "        imgpath = os.path.join(datapath,i,\"WithoutMask\",img_nm)\n",
        "        img = cv2.imread(imgpath)\n",
        "        \n",
        "        #gray = cv2.cvtColor(img,cv2.COLOR_BGR2GRAY)           \n",
        "        gray = cv2.resize(img,(128,128))\n",
        "        \n",
        "        if count == 0:\n",
        "            valid.append(gray)\n",
        "            valid_target.append(1)\n",
        "        \n",
        "        if count == 1:\n",
        "            test.append(gray)\n",
        "            test_target.append(1)\n",
        "        \n",
        "        if count == 2:\n",
        "            train.append(gray)\n",
        "            train_target.append(1)\n",
        "            \n",
        "    count = count + 1    \n",
        "    "
      ],
      "execution_count": null,
      "outputs": []
    },
    {
      "cell_type": "code",
      "metadata": {
        "trusted": true,
        "id": "IbAP3bwx9z7H"
      },
      "source": [
        "train = np.array(train)/255.0\n",
        "train = np.reshape(train,(train.shape[0],128,128,3))\n",
        "train_target = np.array(train_target)\n",
        "train_target = np_utils.to_categorical(train_target)\n",
        "\n",
        "test = np.array(test)/255.0\n",
        "test = np.reshape(test,(test.shape[0],128,128,3))\n",
        "test_target = np.array(test_target)\n",
        "test_target = np_utils.to_categorical(test_target)\n",
        "\n",
        "valid = np.array(valid)/255.0\n",
        "valid = np.reshape(valid,(valid.shape[0],128,128,3))\n",
        "valid_target = np.array(valid_target)\n",
        "valid_target = np_utils.to_categorical(valid_target)"
      ],
      "execution_count": null,
      "outputs": []
    },
    {
      "cell_type": "code",
      "metadata": {
        "trusted": true,
        "id": "YU04AOGv9z7I",
        "outputId": "fc8f51aa-fd74-4aaa-f185-66d79596a12f"
      },
      "source": [
        "valid.shape"
      ],
      "execution_count": null,
      "outputs": [
        {
          "output_type": "execute_result",
          "data": {
            "text/plain": [
              "(800, 128, 128, 3)"
            ]
          },
          "metadata": {
            "tags": []
          },
          "execution_count": 7
        }
      ]
    },
    {
      "cell_type": "code",
      "metadata": {
        "trusted": true,
        "id": "9GQuXAqL9z7J"
      },
      "source": [
        "from keras.applications import ResNet50"
      ],
      "execution_count": null,
      "outputs": []
    },
    {
      "cell_type": "code",
      "metadata": {
        "trusted": true,
        "id": "8Taa-RNv9z7J"
      },
      "source": [
        "weights_path = \"../input/resnet50/resnet50_weights_tf_dim_ordering_tf_kernels_notop.h5\"\n",
        "resnet = ResNet50(weights='../input/resnet50/resnet50_weights_tf_dim_ordering_tf_kernels_notop.h5', include_top=False, input_shape = (128, 128, 3))\n",
        "#resnet.trainable = False"
      ],
      "execution_count": null,
      "outputs": []
    },
    {
      "cell_type": "code",
      "metadata": {
        "trusted": true,
        "id": "4yNPZsF19z7L"
      },
      "source": [
        "resnet.trainable = False"
      ],
      "execution_count": null,
      "outputs": []
    },
    {
      "cell_type": "code",
      "metadata": {
        "trusted": true,
        "id": "MmIwegXl9z7L"
      },
      "source": [
        "def build(resnet):\n",
        "    input_data = Input(shape=(128, 128, 3))\n",
        "    x = resnet(input_data)\n",
        "    x = GlobalMaxPooling2D()(x)\n",
        "    x = BatchNormalization()(x)\n",
        "    x = Dropout(0.3)(x)\n",
        "    x = Dense(128,activation='relu')(x) \n",
        "    output = Dense(2, activation='sigmoid')(x)\n",
        "    \n",
        "    resnet_model = Model(inputs=input_data, outputs=output)    \n",
        "    return resnet_model"
      ],
      "execution_count": null,
      "outputs": []
    },
    {
      "cell_type": "code",
      "metadata": {
        "trusted": true,
        "id": "_qiSEvHA9z7N"
      },
      "source": [
        "model_res = Sequential([\n",
        "    resnet,\n",
        "    GlobalMaxPooling2D()\n",
        "    BatchNormalization()\n",
        "    Dropout(0.3)\n",
        "    Dense(128,activation='relu')\n",
        "    Dense(2, activation='sigmoid')\n",
        "])"
      ],
      "execution_count": null,
      "outputs": []
    },
    {
      "cell_type": "code",
      "metadata": {
        "trusted": true,
        "id": "S80FUn7Q9z7N"
      },
      "source": [
        "model_res.compile(optimizer = 'adam', loss = 'binary_crossentropy', metrics = ['accuracy'])\n",
        "model_res.summary()"
      ],
      "execution_count": null,
      "outputs": []
    },
    {
      "cell_type": "code",
      "metadata": {
        "trusted": true,
        "id": "7oGrbisY9z7O",
        "outputId": "170e1685-8366-449f-8f2f-af1d697dd8a5"
      },
      "source": [
        "model = build(resnet)\n",
        "model.compile(optimizer = 'adam', loss = 'binary_crossentropy', metrics = ['accuracy'])\n",
        "model.summary()"
      ],
      "execution_count": null,
      "outputs": [
        {
          "output_type": "stream",
          "text": [
            "Model: \"model_1\"\n",
            "_________________________________________________________________\n",
            "Layer (type)                 Output Shape              Param #   \n",
            "=================================================================\n",
            "input_8 (InputLayer)         [(None, 128, 128, 3)]     0         \n",
            "_________________________________________________________________\n",
            "resnet50 (Functional)        (None, 4, 4, 2048)        23587712  \n",
            "_________________________________________________________________\n",
            "global_max_pooling2d_2 (Glob (None, 2048)              0         \n",
            "_________________________________________________________________\n",
            "batch_normalization_2 (Batch (None, 2048)              8192      \n",
            "_________________________________________________________________\n",
            "dropout_2 (Dropout)          (None, 2048)              0         \n",
            "_________________________________________________________________\n",
            "dense_4 (Dense)              (None, 128)               262272    \n",
            "_________________________________________________________________\n",
            "dense_5 (Dense)              (None, 2)                 258       \n",
            "=================================================================\n",
            "Total params: 23,858,434\n",
            "Trainable params: 266,626\n",
            "Non-trainable params: 23,591,808\n",
            "_________________________________________________________________\n"
          ],
          "name": "stdout"
        }
      ]
    },
    {
      "cell_type": "code",
      "metadata": {
        "trusted": true,
        "id": "iIXKyFGt9z7O",
        "outputId": "0a03aabd-fda5-433c-e908-d195f2333982"
      },
      "source": [
        "callbacks = [ReduceLROnPlateau(monitor='loss', factor=0.5, patience=5, min_lr=0.00001)]\n",
        "history = model.fit(train, train_target,\n",
        "                         epochs = 15,\n",
        "                         verbose = 1,\n",
        "                         batch_size=32,\n",
        "                         validation_data = (valid, valid_target),\n",
        "                         callbacks=callbacks)"
      ],
      "execution_count": null,
      "outputs": [
        {
          "output_type": "stream",
          "text": [
            "Epoch 1/15\n",
            "313/313 [==============================] - 340s 1s/step - loss: 0.4145 - accuracy: 0.8067 - val_loss: 0.3924 - val_accuracy: 0.7937\n",
            "Epoch 2/15\n",
            "313/313 [==============================] - 336s 1s/step - loss: 0.2804 - accuracy: 0.8852 - val_loss: 0.2171 - val_accuracy: 0.9137\n",
            "Epoch 3/15\n",
            "313/313 [==============================] - 340s 1s/step - loss: 0.2463 - accuracy: 0.8953 - val_loss: 0.2241 - val_accuracy: 0.9162\n",
            "Epoch 4/15\n",
            "313/313 [==============================] - 340s 1s/step - loss: 0.2245 - accuracy: 0.9071 - val_loss: 0.2026 - val_accuracy: 0.9275\n",
            "Epoch 5/15\n",
            "313/313 [==============================] - 338s 1s/step - loss: 0.2245 - accuracy: 0.9062 - val_loss: 0.1817 - val_accuracy: 0.9350\n",
            "Epoch 6/15\n",
            "313/313 [==============================] - 337s 1s/step - loss: 0.2102 - accuracy: 0.9130 - val_loss: 0.1817 - val_accuracy: 0.9362\n",
            "Epoch 7/15\n",
            "313/313 [==============================] - 336s 1s/step - loss: 0.1915 - accuracy: 0.9237 - val_loss: 0.1795 - val_accuracy: 0.9425\n",
            "Epoch 8/15\n",
            "313/313 [==============================] - 336s 1s/step - loss: 0.1896 - accuracy: 0.9183 - val_loss: 0.1592 - val_accuracy: 0.9463\n",
            "Epoch 9/15\n",
            "313/313 [==============================] - 336s 1s/step - loss: 0.1851 - accuracy: 0.9275 - val_loss: 0.1631 - val_accuracy: 0.9413\n",
            "Epoch 10/15\n",
            "313/313 [==============================] - 337s 1s/step - loss: 0.1839 - accuracy: 0.9305 - val_loss: 0.1669 - val_accuracy: 0.9362\n",
            "Epoch 11/15\n",
            "313/313 [==============================] - 336s 1s/step - loss: 0.1644 - accuracy: 0.9333 - val_loss: 0.1740 - val_accuracy: 0.9500\n",
            "Epoch 12/15\n",
            "313/313 [==============================] - 338s 1s/step - loss: 0.1663 - accuracy: 0.9340 - val_loss: 0.1667 - val_accuracy: 0.9475\n",
            "Epoch 13/15\n",
            "313/313 [==============================] - 339s 1s/step - loss: 0.1633 - accuracy: 0.9345 - val_loss: 0.1800 - val_accuracy: 0.9438\n",
            "Epoch 14/15\n",
            "313/313 [==============================] - 343s 1s/step - loss: 0.1450 - accuracy: 0.9409 - val_loss: 0.1715 - val_accuracy: 0.9513\n",
            "Epoch 15/15\n",
            "313/313 [==============================] - 342s 1s/step - loss: 0.1491 - accuracy: 0.9400 - val_loss: 0.1625 - val_accuracy: 0.9500\n"
          ],
          "name": "stdout"
        }
      ]
    },
    {
      "cell_type": "code",
      "metadata": {
        "trusted": true,
        "id": "q01xnHG99z7P",
        "outputId": "fde6c8a9-eb5a-4cce-c3dd-9cc779d8a19f"
      },
      "source": [
        "from matplotlib import pyplot as plt\n",
        "\n",
        "plt.plot(history.history['loss'],'r',label='training loss')\n",
        "plt.plot(history.history['val_loss'],label='validation loss')\n",
        "plt.xlabel('# epochs')\n",
        "plt.ylabel('loss')\n",
        "plt.legend()\n",
        "plt.show()"
      ],
      "execution_count": null,
      "outputs": [
        {
          "output_type": "display_data",
          "data": {
            "text/plain": [
              "<Figure size 432x288 with 1 Axes>"
            ],
            "image/png": "[encoded data removed]"
          },
          "metadata": {
            "tags": [],
            "needs_background": "light"
          }
        }
      ]
    },
    {
      "cell_type": "code",
      "metadata": {
        "trusted": true,
        "id": "zp8o5cOo9z7P",
        "outputId": "b043f34e-b6f5-4fb2-d83b-1942e6dfa3cc"
      },
      "source": [
        "plt.plot(history.history['accuracy'],'r',label='training accuracy')\n",
        "plt.plot(history.history['val_accuracy'],label='validation accuracy')\n",
        "plt.xlabel('# epochs')\n",
        "plt.ylabel('accuracy')\n",
        "plt.legend()\n",
        "plt.show()"
      ],
      "execution_count": null,
      "outputs": [
        {
          "output_type": "display_data",
          "data": {
            "text/plain": [
              "<Figure size 432x288 with 1 Axes>"
            ],
            "image/png": "[encoded data removed]"
          },
          "metadata": {
            "tags": [],
            "needs_background": "light"
          }
        }
      ]
    },
    {
      "cell_type": "code",
      "metadata": {
        "trusted": true,
        "id": "JQw54KRE9z7Q",
        "outputId": "77777d43-ab1b-4bee-ec8d-fffd69975cef"
      },
      "source": [
        "print(model.evaluate(test,test_target))"
      ],
      "execution_count": null,
      "outputs": [
        {
          "output_type": "stream",
          "text": [
            "31/31 [==============================] - 31s 990ms/step - loss: 0.1547 - accuracy: 0.9466\n",
            "[0.1546512246131897, 0.9465726017951965]\n"
          ],
          "name": "stdout"
        }
      ]
    },
    {
      "cell_type": "code",
      "metadata": {
        "trusted": true,
        "id": "fwl_T2Ru9z7R"
      },
      "source": [
        "model.save(\"resnet_kaggle.h5\")"
      ],
      "execution_count": null,
      "outputs": []
    }
  ]
}